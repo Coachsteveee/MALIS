{
 "cells": [
  {
   "cell_type": "markdown",
   "id": "e934717f-26c5-43e7-a9bb-6f06144427c4",
   "metadata": {},
   "source": [
    "# Part 1: k Nearest Neighbors\n",
    "\n",
    "We will first do all the necessary imports to run the code"
   ]
  },
  {
   "cell_type": "code",
   "execution_count": null,
   "id": "360e3b8e-c9a1-402e-9ba2-4a05c0df5b53",
   "metadata": {},
   "outputs": [],
   "source": [
    "from scipy import stats #\n",
    "import numpy as np\n",
    "import matplotlib.pyplot as plt\n",
    "import seaborn as sns\n",
    "from matplotlib.colors import ListedColormap\n",
    "from scipy.spatial import distance_matrix"
   ]
  },
  {
   "cell_type": "markdown",
   "id": "7f04103b-0e2c-4f0d-a55f-470424623545",
   "metadata": {},
   "source": [
    "## Exercise 1: Understanding the kNN classifier and implementing the Minkowski distance\n",
    "The class below contains the basic functionality of a **kNN classifier**. Go through the code and read the comments in it to understand the different operations. "
   ]
  },
  {
   "cell_type": "code",
   "execution_count": null,
   "id": "b3fc8a1e-35f3-451f-8ae3-ebe9272a64b0",
   "metadata": {},
   "outputs": [],
   "source": [
    "class KNN:\n",
    "    '''\n",
    "    k nearest neighboors algorithm class\n",
    "    __init__() initialize the model\n",
    "    train() trains the model\n",
    "    predict() predict the class for a new point\n",
    "    '''\n",
    "\n",
    "    def __init__(self, k):\n",
    "        '''\n",
    "        INPUT :\n",
    "        - k : is a natural number bigger than 0 \n",
    "        '''\n",
    "\n",
    "        if k <= 0:\n",
    "            raise Exception(\"Sorry, no numbers below or equal to zero. Start again!\")\n",
    "            \n",
    "        # empty initialization of X and y\n",
    "        self.X = []\n",
    "        self.y = []\n",
    "        # k is the parameter of the algorithm representing the number of neighborhoods\n",
    "        self.k = k\n",
    "        \n",
    "    def train(self,X,y):\n",
    "        '''\n",
    "        INPUT :\n",
    "        - X : is a 2D Nx2 numpy array containing the coordinates of points\n",
    "        - y : is a 1D Nx1 numpy array containing the labels for the corrisponding row of X\n",
    "        '''        \n",
    "        \n",
    "        self.X=X.copy() # copy your training points\n",
    "        self.y=y.copy()\n",
    "       \n",
    "    def predict(self,X_new,p):\n",
    "        '''\n",
    "        INPUT :\n",
    "        - X_new : is a Mx2 numpy array containing the coordinates of new points whose label has to be predicted\n",
    "        \n",
    "        OUTPUT :\n",
    "        - y_hat : is a Mx1 numpy array containing the predicted labels for the X_new points\n",
    "        ''' \n",
    "            \n",
    "        dst = self.minkowski_dist(X_new, p) #Estimates the Minkowski distance, order p, of a set of X_new points to the data in the training set.\n",
    "        ordered = np.argsort(dst, axis=1) # Orders all distances in ascending order\n",
    "        neighbors = y[ordered[:,0:self.k]] #For every point in the test set, picks the k closest points in the training set\n",
    "        y_hat, _ = stats.mode(neighbors, axis=1) #As seen in the lecture, we use the mode to assign labels to the new data\n",
    "\n",
    "        return y_hat\n",
    "    \n",
    "    def minkowski_dist(self,X_new,p):\n",
    "        '''\n",
    "        INPUT : \n",
    "        - X_new : is a Mx2 numpy array containing the coordinates of points for which the distance to the training set X will be estimated\n",
    "        - p : parameter of the Minkowski distance\n",
    "        \n",
    "        OUTPUT :\n",
    "        - dst : is an MxN numpy array containing the distance of each point in X_new to X\n",
    "        '''\n",
    "        ######### Task 1.2 YOUR CODE HERE - do not delete this line ################\n",
    "        \n",
    "        ######## Task 1.2 END OF YOUR CODE HERE - do not delete this line ##########\n",
    "        \n",
    "        return dst"
   ]
  },
  {
   "cell_type": "markdown",
   "id": "e42d458c-78a3-4534-837c-e6f9a7f8d443",
   "metadata": {},
   "source": [
    "#### Task 1.1. The function `np.argsort`\n",
    "Investigate the role of the function `np.argsort`. What is it doing in the code? \n",
    "\n",
    "**Hint:** Use the help function in the cell below to display the documentation"
   ]
  },
  {
   "cell_type": "code",
   "execution_count": null,
   "id": "7bccb441-3cc9-4c69-9d9e-09e9bcd5fcce",
   "metadata": {},
   "outputs": [],
   "source": [
    "#Space to use the help function or do some tests with np.argsort"
   ]
  },
  {
   "cell_type": "markdown",
   "id": "ed778108-ece1-45ea-9cfa-32de2471384e",
   "metadata": {},
   "source": [
    "Your answer here (some text is expected): "
   ]
  },
  {
   "cell_type": "markdown",
   "id": "5188f689-c2f0-4d6f-b14f-6fe7548c4add",
   "metadata": {},
   "source": [
    "#### Task 1.2. Implement the Minkowski distance\n",
    "You will notice that the implementation of the Minkowski distance is missing. Your first task is to code it. As a reminder, the Minkowski distance, between two $D$-dimensional points $\\mathbf{x}$ and $\\mathbf{z}$ is defined as: \n",
    "\n",
    "\\begin{equation}\n",
    "\t\t\\text{dist}(\\textbf{x},\\textbf{z}) = \\left( \\sum_{j=1}^D |x_j -z_j|^p\\right)^{1/p}\n",
    "\t\\end{equation}\n",
    "    \n",
    "Write your code where is indicated in the cell corresponding to the kNN class.   \n",
    "\n",
    "**Tips:** Read carefully the documentation of the function, as the output should be compliant with what is written there. You may want to test your implementation, outside the kNN classifier, using simple examples.  "
   ]
  },
  {
   "cell_type": "markdown",
   "id": "070b440a-491e-42d1-b0db-792e00b75fd2",
   "metadata": {},
   "source": [
    "## Exercise 2: Testing the code\n",
    "In this exercise you will run the kNN classifier in some data, to gain understanding of its behavior. "
   ]
  },
  {
   "cell_type": "code",
   "execution_count": null,
   "id": "04c76d80-6ca3-4ab1-882e-e47bfdeee095",
   "metadata": {},
   "outputs": [],
   "source": [
    "import utils"
   ]
  },
  {
   "cell_type": "markdown",
   "id": "97033e62-24c6-418a-8f27-f673a11a9b58",
   "metadata": {},
   "source": [
    "We will rely on the utils.py file, which was imported in the cell above, to generate our training data using the function `gaussians(N)`. This function generates two multivariate Gaussian distributions, each containing N number of points. \n",
    "\n",
    "#### Question 2.1 Understanding the `gaussians` function\n",
    "Inspect the code of the function `gaussians(N)` within the utils.py file. \n",
    "1. What are the means and covariances of each distribution? \n",
    "2. What is the dimension $D$ of $\\mathbf{X}$? \n",
    "3. Which values can $y$ take? "
   ]
  },
  {
   "cell_type": "markdown",
   "id": "68d52c1c-06fc-4f41-a123-6084339c439d",
   "metadata": {},
   "source": [
    "Your answers here: "
   ]
  },
  {
   "cell_type": "code",
   "execution_count": null,
   "id": "d4d06126-a43c-4257-9ab5-838b4b573937",
   "metadata": {},
   "outputs": [],
   "source": [
    "X, y = utils.gaussians(100) #We create 100 points from each distribution. Input data (observations) are stored in X and the labels in y."
   ]
  },
  {
   "cell_type": "markdown",
   "id": "258d6ae3-7781-4478-9f9f-57a0a5a4b9b2",
   "metadata": {},
   "source": [
    "As testing set, we will create a grid of points covering the range of $\\mathbf{X}$. Study the code snippet below and try to understand what is being done."
   ]
  },
  {
   "cell_type": "code",
   "execution_count": null,
   "id": "2a36bb08-a245-46c6-a826-d38e07fffc2e",
   "metadata": {},
   "outputs": [],
   "source": [
    "# Create a grid of testing points\n",
    "h=.02 # space in the grid\n",
    "x_min, x_max = X[:, 0].min() - 1, X[:, 0].max() + 1\n",
    "y_min, y_max = X[:, 1].min() - 1, X[:, 1].max() + 1\n",
    "# xx is the x-axis coordinate of the points in the test set\n",
    "# yy is the y-axis coordinate of the points in the test set\n",
    "xx, yy = np.meshgrid(np.arange(x_min, x_max, h),\n",
    "                     np.arange(y_min, y_max, h))\n",
    "# X_test contains the test set inputs (xx,yy)\n",
    "X_test = np.c_[xx.ravel(), yy.ravel()]"
   ]
  },
  {
   "cell_type": "markdown",
   "id": "f844ba62-08d7-4455-aad4-93804f1a9a48",
   "metadata": {},
   "source": [
    "#### Question 2.2 `np.meshgrid`\n",
    "What is the function `np.meshgrid` doing? Use the help function (`help(name_of_function)`) to answer the question."
   ]
  },
  {
   "cell_type": "code",
   "execution_count": null,
   "id": "fa81ac3d-fd77-4a6d-b928-0b19fc433145",
   "metadata": {},
   "outputs": [],
   "source": [
    "#Your answer here"
   ]
  },
  {
   "cell_type": "markdown",
   "id": "b94cfc20-5d84-496e-aedc-b9b74ef25ab9",
   "metadata": {},
   "source": [
    "#### Task 2.1 Running kNNs\n",
    "Now it is time to test the kNN classifier. We will use k=3 to start with. We will use the function `plot_results(args)` in the utils file to visualize the obtained results. Please inspect the code of the function and try to understand it."
   ]
  },
  {
   "cell_type": "code",
   "execution_count": null,
   "id": "a7019608-a803-42e7-a3bd-55ea1d9b5849",
   "metadata": {},
   "outputs": [],
   "source": [
    "# Parameter K defining the KNN algorithm\n",
    "k=3\n",
    "# Create a model for the KNN with inputs the ones from the gaussians and test the model using the grid of testing points\n",
    "knn_model_k3 = KNN(k)\n",
    "knn_model_k3.train(X, y)\n",
    "y_test_k3=knn_model_k3.predict(X_test,2)\n",
    "# Put the result into a color plot\n",
    "y_test_k3 = y_test_k3.reshape(xx.shape)\n",
    "utils.plot_results(xx,yy, X, y, y_test_k3, \"k=\" + str(k))"
   ]
  },
  {
   "cell_type": "markdown",
   "id": "723f4836-95e9-4636-b1be-2cb03cb88a02",
   "metadata": {},
   "source": [
    "#### Question 2.3 Analysing the results\n",
    "What do you think of the obtained results? Are they good? Are there any misclassified points? What do the colors in the background denote? "
   ]
  },
  {
   "cell_type": "markdown",
   "id": "2085c59c-6dd9-4578-aa73-8835cc85178e",
   "metadata": {},
   "source": [
    "Your answer here:"
   ]
  },
  {
   "cell_type": "markdown",
   "id": "084e7d9f-4d04-4815-8538-8768130986a2",
   "metadata": {},
   "source": [
    "#### Task 2.2 Assessing different values of k\n",
    "Create different kNN classifiers using different values of $k$. Namely, $k=[1,5,10,50,100]$\n",
    "\n",
    "**Bonus:** If you feel brave, you can try to create a figure with all the subplots (one per k), rather than having them in separate cells. "
   ]
  },
  {
   "cell_type": "code",
   "execution_count": null,
   "id": "2dbf7f43-55f8-4a72-bdea-bcfa5bca73ad",
   "metadata": {},
   "outputs": [],
   "source": [
    "Ks = [1, 5, 10, 50, 100]\n",
    "\n",
    "######### Task 2.2 YOUR CODE HERE - do not delete this line ################\n",
    "\n",
    " ######### Task 2.2 YOUR CODE ENDS HERE - do not delete this line ################"
   ]
  },
  {
   "cell_type": "markdown",
   "id": "752804ae-ab71-49af-8a16-839dac60009c",
   "metadata": {},
   "source": [
    "#### Question 2.4 Differences between k's\n",
    "What differences do you observe as you vary k? What occurs when $k=1$? When $k=N$? Which value would you choose?"
   ]
  },
  {
   "cell_type": "markdown",
   "id": "e670b27c-e863-4528-be75-5a156f42d22b",
   "metadata": {},
   "source": [
    "Your answer here\n"
   ]
  },
  {
   "cell_type": "markdown",
   "id": "3b4612e0-75b6-4969-b587-e25734ed087e",
   "metadata": {},
   "source": [
    "#### Question 2.5 Good practices in machine learning\n",
    "According to what we saw during our first lecture, the procedure we are following to identify the good value of $k$ may be wrong. Do you agree? Justify your answer."
   ]
  },
  {
   "cell_type": "markdown",
   "id": "a54f6694-2ed7-473f-8041-d8b7d0aa1624",
   "metadata": {},
   "source": [
    "Your answer here"
   ]
  },
  {
   "cell_type": "markdown",
   "id": "d21bac02-035d-439a-a777-030acba76fba",
   "metadata": {},
   "source": [
    "### Final remark: kNNs implementation\n",
    "In the two previous exercises, we have used a \"home made\" implementation of the kNNs algorithm. This implementation serves for academic purposes, but may not prove robust applications.\n",
    "\n",
    "If you are interested in further working with the kNNs algorithm, you may want to discover its implementation in the scikit-learn library:\n",
    "\n",
    "* [Nearest Neighbors in Scikit-learn](https://scikit-learn.org/stable/modules/neighbors.html)"
   ]
  },
  {
   "cell_type": "markdown",
   "id": "0ee35f1d-a81a-4024-8a37-06420ac4f103",
   "metadata": {},
   "source": [
    "## Exercise 3: The curse of dimensionality\n",
    "In this final exercise, we will investigate the weaknesses of the kNN algorithm.\n",
    "\n",
    "Suppose we have a D dimension hypercube with all sides of length 1 in the Cartesian map, i.e. $[0,1]^D$. \n",
    "\n",
    "We sample the training data **uniformly** from this hypercube, i.e. $\\forall \\, i, \\mathbf{x}_i \\in [0,1]^D$.\n",
    "\n",
    "Assume we will use $k=10$ to define the label of a test point."
   ]
  },
  {
   "cell_type": "markdown",
   "id": "de240a6b-94ef-4f84-ae8b-254cbfb77a89",
   "metadata": {},
   "source": [
    "#### Question 3.1 Estimating the space taken by the k-nearest neighbors \n",
    "Let $l$ be the edge length of the smallest hypercube that contains all k-nearest neighbor of a test point. What is the approximate volume of the hyercube? What is the length of $l$? Express your answers in terms of $k$, $D$ (the dimensions) and $N$ the number of training points."
   ]
  },
  {
   "cell_type": "markdown",
   "id": "19d6a3a2-07f2-4929-b5d6-2b3b57b07b95",
   "metadata": {},
   "source": [
    "Your answer here: "
   ]
  },
  {
   "cell_type": "markdown",
   "id": "305b41be-15c8-488f-a8a2-77683ced4a8b",
   "metadata": {},
   "source": [
    "#### Task 3.1 Exploring the behavior of $l$\n",
    "Using the expression you found for $l$ in the previous question, estimate the size of $l$ as a fuction of $D. Assume a training set size $N=1000$. Store the values in a numpy array named l_values."
   ]
  },
  {
   "cell_type": "code",
   "execution_count": null,
   "id": "760158cd-d31c-4e58-94cc-5b35265755f4",
   "metadata": {},
   "outputs": [],
   "source": [
    "D=np.arange(2,10000,10)\n",
    "\n",
    "######### Task 3.1 YOUR CODE HERE - do not delete this line ################\n",
    " \n",
    "######### Task 3.1 YOUR CODE ENDS HERE - do not delete this line ################\n",
    "\n",
    "sns.lineplot(x = D, y = l_values)\n",
    "plt.title('Edge length l of the smallest hypercube containing 10 nearest neighbors as a function of the dimension D')\n",
    "plt.xlabel('D')\n",
    "plt.ylabel('$l$')\n",
    "plt.show()"
   ]
  },
  {
   "cell_type": "code",
   "execution_count": null,
   "id": "4dcf3a8e-cb7e-46d5-aa35-bf2f0784ed7d",
   "metadata": {},
   "outputs": [],
   "source": [
    "#Let us visualize the same results using a log scale\n",
    "sns.lineplot(x = np.log(D), y = l_values)\n",
    "plt.title('Edge length l of the smallest hypercube containing 10 nearest neighbors as a function of log(D)')\n",
    "plt.xlabel('log(D)')\n",
    "plt.ylabel('$l$')\n",
    "plt.show()"
   ]
  },
  {
   "cell_type": "markdown",
   "id": "b442ca1e-598e-467b-aae4-39965407e95f",
   "metadata": {},
   "source": [
    "#### Question 3.2 Analysis\n",
    "What can you say about the obtained results? What happens with $l$ as $D \\gg 0$? What consequences this may have for the k nearest neighbor algorithm? "
   ]
  },
  {
   "cell_type": "markdown",
   "id": "2db875d7-675e-4a81-850b-dbf25de99dea",
   "metadata": {},
   "source": [
    "Your answer here: "
   ]
  },
  {
   "cell_type": "markdown",
   "id": "8198b269-dab1-4916-81fb-2cea62643150",
   "metadata": {},
   "source": [
    "#### Task 3.2 Finding a good training set size (N)\n",
    "Let us suppose that your training set $\\mathcal{D} \\in \\mathbb{R}^{500}$. You really want to use the k-nearest neighbor classifier. However, from the previous results, it seems that with a dataset of $N=1000$ the search space is too large. Plot different values of $N$ to identify when will $l \\leq 0.2$. You may assume $k=10$. Plot an horizontal bar at $l=0.2$ to assist your analysis. "
   ]
  },
  {
   "cell_type": "code",
   "execution_count": null,
   "id": "a1f26108-959d-4495-968c-c7210213fde9",
   "metadata": {},
   "outputs": [],
   "source": [
    "######### Task 3.2 YOUR CODE HERE - do not delete this line ################\n",
    "\n",
    "\n",
    "######### Task 3.2 YOUR CODE ENDS HERE - do not delete this line ################\n"
   ]
  },
  {
   "cell_type": "markdown",
   "id": "85722a01-f855-4862-bce8-14b8f4d1ac86",
   "metadata": {},
   "source": [
    "#### Question 3.3 Analysis\n",
    "What do these results suggest? Does it seem feasible to find a dataset that fits your needs?"
   ]
  },
  {
   "cell_type": "markdown",
   "id": "3f8f1245-525f-4323-9edd-7d8088a31560",
   "metadata": {},
   "source": [
    "Your answer: "
   ]
  },
  {
   "cell_type": "markdown",
   "id": "96cf444d-916d-4296-b55c-e31309f0bb55",
   "metadata": {},
   "source": [
    "#### Question 3.4 The Curse of Dimensionality\n",
    "The phenomenon that you are observing is well-known. It is known as the curse of dimensionality. Investigate about it and explain it using **your own words**. Copy-pasted text will represent a mark zero to the question."
   ]
  },
  {
   "cell_type": "markdown",
   "id": "d44b5c82-067c-460d-8122-b0f8ec5a52e5",
   "metadata": {},
   "source": [
    "Your answer here: "
   ]
  },
  {
   "cell_type": "code",
   "execution_count": null,
   "id": "86ea9294-0bdb-4d9d-ab17-f2629630f590",
   "metadata": {},
   "outputs": [],
   "source": []
  }
 ],
 "metadata": {
  "kernelspec": {
   "display_name": "Python 3 (ipykernel)",
   "language": "python",
   "name": "python3"
  },
  "language_info": {
   "codemirror_mode": {
    "name": "ipython",
    "version": 3
   },
   "file_extension": ".py",
   "mimetype": "text/x-python",
   "name": "python",
   "nbconvert_exporter": "python",
   "pygments_lexer": "ipython3",
   "version": "3.9.12"
  }
 },
 "nbformat": 4,
 "nbformat_minor": 5
}
